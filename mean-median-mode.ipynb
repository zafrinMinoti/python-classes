{
 "cells": [
  {
   "cell_type": "raw",
   "metadata": {
    "collapsed": true
   },
   "source": [
    "Task 8 - Mean, Median, and Mode (Computed From Scratch)\n",
    "1) Write a function that, given an arbitrary list of numbers (or a range, or a tuple of numbers) computes the mean.\n",
    "2) Write a function that, given an arbitrary list of numbers (or a range of numbers, or a tuple of numbers) computes the median.\n",
    "3) Write a function that, given an arbitrary list of numbers (or a range, or a tuple of numbers) computes the mode.\n",
    "4) MAKE A CLASS that has the exact same methods as the functions described above.\n",
    "see docstring below for examples\n",
    "\"\"\"\n",
    "list1 = [2,3,4]\n",
    ">>> mean(list1) = 3\n",
    ">>> median(list1) = 3\n",
    ">>> mode(list1) = None\n",
    "list2 = [10,1,4,3,2,10]\n",
    ">>> mean(list2) = 5\n",
    ">>> median(list2) = 3.5\n",
    ">>> mode(list2) = 10\n",
    "range1 = range(2,5)\n",
    ">>> mean(range1) = 3\n",
    ">>> median(range1) = 3\n",
    ">>> mode(range1) = None\n",
    "range2 = range(1,101)\n",
    ">>> mean(range2) = 50.5\n",
    ">>> median(range2) = 50.5\n",
    ">>> mode(range2) = None\n",
    "tuple1 = (10,4,6,8,2)\n",
    ">>> mean(tuple1) = 6\n",
    ">>> median(range1) = 6\n",
    ">>> mode(range1) = None\n",
    "tuple2 = (10,4,6,8,2,10000,4)\n",
    ">>> mean(tuple1) = 1433.4 \n",
    ">>> median(range1) = 6\n",
    ">>> mode(range1) = 4\n",
    "\"\"\""
   ]
  },
  {
   "cell_type": "code",
   "execution_count": null,
   "metadata": {},
   "outputs": [],
   "source": [
    "def mean(ittearable):\n",
    "    return sum(ittearable)/len(ittearable)\n",
    "\n",
    "def median(ittearable):\n",
    "    ittearable = sorted(ittearable)\n",
    "    length = len(ittearable)\n",
    "    midpoint = length//2\n",
    "    if length % 2 != 0:\n",
    "        return ittearable[midpoint]\n",
    "    if length % 2 == 0:\n",
    "        return (ittearable[midpoint] + ittearable[midpoint+1])/2\n",
    "    \n",
    "form collections import Counter, most_common\n",
    "def mode(ittearable):\n",
    "    return Counter(ittearable).most_common(1)"
   ]
  },
  {
   "cell_type": "code",
   "execution_count": 3,
   "metadata": {},
   "outputs": [],
   "source": [
    "x = [2,3,1]"
   ]
  },
  {
   "cell_type": "code",
   "execution_count": 5,
   "metadata": {},
   "outputs": [
    {
     "data": {
      "text/plain": [
       "<function list.sort>"
      ]
     },
     "execution_count": 5,
     "metadata": {},
     "output_type": "execute_result"
    }
   ],
   "source": [
    "x.sort"
   ]
  },
  {
   "cell_type": "code",
   "execution_count": 7,
   "metadata": {},
   "outputs": [
    {
     "data": {
      "text/plain": [
       "1"
      ]
     },
     "execution_count": 7,
     "metadata": {},
     "output_type": "execute_result"
    }
   ],
   "source": [
    "3//2"
   ]
  },
  {
   "cell_type": "code",
   "execution_count": null,
   "metadata": {},
   "outputs": [],
   "source": []
  }
 ],
 "metadata": {
  "kernelspec": {
   "display_name": "Python 3.6",
   "language": "python",
   "name": "python36"
  },
  "language_info": {
   "codemirror_mode": {
    "name": "ipython",
    "version": 3
   },
   "file_extension": ".py",
   "mimetype": "text/x-python",
   "name": "python",
   "nbconvert_exporter": "python",
   "pygments_lexer": "ipython3",
   "version": "3.6.3"
  }
 },
 "nbformat": 4,
 "nbformat_minor": 2
}
