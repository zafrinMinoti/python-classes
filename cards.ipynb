{
 "cells": [
  {
   "cell_type": "raw",
   "metadata": {
    "collapsed": true
   },
   "source": [
    "Task #9 for beginning of Monday's class. Design a Python class called Card, and then  a Python class called Deck that represents a deck of cards. The cards should have four suits (hearts spades clubs and diamonds) and go from 2 to Ace like normal playing cards. \n",
    "\n",
    "Make a list of attributes and methods that your Card and Deck classes should have, and implement them as time permits."
   ]
  },
  {
   "cell_type": "code",
   "execution_count": 55,
   "metadata": {},
   "outputs": [],
   "source": [
    "import random\n",
    "\n",
    "class Card():\n",
    "    \n",
    "    SUITS = ['heart', 'spade', 'club', 'diamond']\n",
    "    VALUES = [i for i in range(1,11)] + ['J', 'Q', 'K', 'A']\n",
    "    \n",
    "    def __init__(self, suit, num):\n",
    "        #validation\n",
    "        self.suit = suit\n",
    "        self.num = num\n",
    "    \n",
    "    def __str__(self):\n",
    "        return '{} of {} was created'.format(self.num, self.suit)\n",
    "    \n",
    "    def show_card(self):\n",
    "        return (self.num, self.suit)\n",
    "    \n",
    "    \n",
    "class Deck():\n",
    "    \n",
    "    cards = []\n",
    "    for suit in Card.SUITS:\n",
    "        for value in Card.VALUES:\n",
    "            cards.append( (value, suit))\n",
    "                \n",
    "    def __init__(self):\n",
    "        self.cards = Deck.cards\n",
    "        \n",
    "    def __str__(self):\n",
    "        return  'A deak for 52 cards was created'\n",
    "\n",
    "    def draw_one(self):\n",
    "        return(random.choice(Deck.cards))"
   ]
  },
  {
   "cell_type": "code",
   "execution_count": 56,
   "metadata": {},
   "outputs": [],
   "source": [
    "new_deck = Deck()"
   ]
  },
  {
   "cell_type": "code",
   "execution_count": 57,
   "metadata": {},
   "outputs": [
    {
     "name": "stdout",
     "output_type": "stream",
     "text": [
      "A deak for 52 cards was created\n"
     ]
    }
   ],
   "source": [
    "print(new_deck)"
   ]
  },
  {
   "cell_type": "code",
   "execution_count": 58,
   "metadata": {},
   "outputs": [
    {
     "data": {
      "text/plain": [
       "(2, 'heart')"
      ]
     },
     "execution_count": 58,
     "metadata": {},
     "output_type": "execute_result"
    }
   ],
   "source": [
    "new_deck.draw_one()"
   ]
  },
  {
   "cell_type": "code",
   "execution_count": 59,
   "metadata": {},
   "outputs": [
    {
     "name": "stdout",
     "output_type": "stream",
     "text": [
      "A of heart was created\n"
     ]
    }
   ],
   "source": [
    "c = Card('heart','A')\n",
    "print(c)"
   ]
  },
  {
   "cell_type": "code",
   "execution_count": null,
   "metadata": {},
   "outputs": [],
   "source": [
    "text =open(\"stuff.txt\").read()"
   ]
  },
  {
   "cell_type": "raw",
   "metadata": {},
   "source": [
    "Using your Card and Deck class (and any other classyou care to implement), make a game of Go Fish playable by two human players. \n",
    "(Obviously, this is not ideal, because the two players will be able to see each others cards! Still, we will push on..)\n",
    "The rules:\n",
    "Four cards of the same face value are known as a \"book\"\n",
    "Five cards are dealt from a standard 52-card deck to each player. The remaining cards are kept in a pile referred to as the \"ocean\" or \"pool\"\n",
    "The player whose turn it is to play asks another player for his or her cards of a particular face value. \n",
    "For example Alice may ask, \"Bob, do you have any threes?\" Alice must have at least one card of the rank she requested.\n",
    "Bob must hand over all cards of that rank if he has any. \n",
    "If he has none, Bob tells Alice to \"go fish\" and Alice draws a card from the pool and places it in her own hand, ending her turn. Then it is the next player's turn \n",
    "When any player at any time has all four cards of one face value, it forms a book, and the cards must be placed face up in front of that player.\n",
    "When all sets of cards have been laid down in books, the game ends. The player with the most books wins"
   ]
  }
 ],
 "metadata": {
  "kernelspec": {
   "display_name": "Python 3.6",
   "language": "python",
   "name": "python36"
  },
  "language_info": {
   "codemirror_mode": {
    "name": "ipython",
    "version": 3
   },
   "file_extension": ".py",
   "mimetype": "text/x-python",
   "name": "python",
   "nbconvert_exporter": "python",
   "pygments_lexer": "ipython3",
   "version": "3.6.3"
  }
 },
 "nbformat": 4,
 "nbformat_minor": 2
}
